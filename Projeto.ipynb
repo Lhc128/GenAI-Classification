{
 "cells": [
  {
   "cell_type": "code",
   "execution_count": 22,
   "metadata": {},
   "outputs": [],
   "source": [
    "import pandas as pd\n",
    "import numpy as np\n",
    "import matplotlib.pyplot as plt\n",
    "import tensorflow as tf\n",
    "import pytorch"
   ]
  },
  {
   "cell_type": "code",
   "execution_count": 21,
   "metadata": {},
   "outputs": [
    {
     "name": "stdout",
     "output_type": "stream",
     "text": [
      "Collecting torch\n",
      "  Downloading torch-2.5.1-cp311-cp311-win_amd64.whl.metadata (28 kB)\n",
      "Collecting filelock (from torch)\n",
      "  Downloading filelock-3.17.0-py3-none-any.whl.metadata (2.9 kB)\n",
      "Requirement already satisfied: typing-extensions>=4.8.0 in c:\\users\\lucas.cuan\\appdata\\roaming\\python\\python311\\site-packages (from torch) (4.12.2)\n",
      "Collecting networkx (from torch)\n",
      "  Downloading networkx-3.4.2-py3-none-any.whl.metadata (6.3 kB)\n",
      "Collecting jinja2 (from torch)\n",
      "  Using cached jinja2-3.1.5-py3-none-any.whl.metadata (2.6 kB)\n",
      "Collecting fsspec (from torch)\n",
      "  Downloading fsspec-2024.12.0-py3-none-any.whl.metadata (11 kB)\n",
      "Collecting sympy==1.13.1 (from torch)\n",
      "  Downloading sympy-1.13.1-py3-none-any.whl.metadata (12 kB)\n",
      "Collecting mpmath<1.4,>=1.1.0 (from sympy==1.13.1->torch)\n",
      "  Downloading mpmath-1.3.0-py3-none-any.whl.metadata (8.6 kB)\n",
      "Requirement already satisfied: MarkupSafe>=2.0 in c:\\users\\lucas.cuan\\appdata\\local\\programs\\python\\python311\\lib\\site-packages (from jinja2->torch) (3.0.2)\n",
      "Downloading torch-2.5.1-cp311-cp311-win_amd64.whl (203.1 MB)\n",
      "   ---------------------------------------- 0.0/203.1 MB ? eta -:--:--\n",
      "    --------------------------------------- 4.7/203.1 MB 25.9 MB/s eta 0:00:08\n",
      "   -- ------------------------------------- 10.5/203.1 MB 28.5 MB/s eta 0:00:07\n",
      "   --- ------------------------------------ 17.6/203.1 MB 29.9 MB/s eta 0:00:07\n",
      "   ---- ----------------------------------- 21.5/203.1 MB 28.3 MB/s eta 0:00:07\n",
      "   ----- ---------------------------------- 27.5/203.1 MB 27.7 MB/s eta 0:00:07\n",
      "   ------ --------------------------------- 31.2/203.1 MB 25.4 MB/s eta 0:00:07\n",
      "   ------- -------------------------------- 37.5/203.1 MB 26.2 MB/s eta 0:00:07\n",
      "   -------- ------------------------------- 41.2/203.1 MB 25.2 MB/s eta 0:00:07\n",
      "   --------- ------------------------------ 46.9/203.1 MB 25.5 MB/s eta 0:00:07\n",
      "   ---------- ----------------------------- 51.4/203.1 MB 25.2 MB/s eta 0:00:07\n",
      "   ----------- ---------------------------- 56.4/203.1 MB 25.3 MB/s eta 0:00:06\n",
      "   ------------ --------------------------- 61.9/203.1 MB 25.1 MB/s eta 0:00:06\n",
      "   ------------- -------------------------- 67.1/203.1 MB 25.0 MB/s eta 0:00:06\n",
      "   -------------- ------------------------- 72.1/203.1 MB 25.1 MB/s eta 0:00:06\n",
      "   --------------- ------------------------ 76.8/203.1 MB 24.6 MB/s eta 0:00:06\n",
      "   ---------------- ----------------------- 84.1/203.1 MB 25.4 MB/s eta 0:00:05\n",
      "   ----------------- ---------------------- 86.5/203.1 MB 24.5 MB/s eta 0:00:05\n",
      "   ------------------ --------------------- 93.8/203.1 MB 25.2 MB/s eta 0:00:05\n",
      "   ------------------- ------------------- 101.2/203.1 MB 25.7 MB/s eta 0:00:04\n",
      "   -------------------- ------------------ 109.1/203.1 MB 26.3 MB/s eta 0:00:04\n",
      "   ---------------------- ---------------- 115.3/203.1 MB 26.5 MB/s eta 0:00:04\n",
      "   ----------------------- --------------- 122.9/203.1 MB 26.9 MB/s eta 0:00:03\n",
      "   ------------------------- ------------- 130.8/203.1 MB 27.4 MB/s eta 0:00:03\n",
      "   -------------------------- ------------ 138.1/203.1 MB 27.7 MB/s eta 0:00:03\n",
      "   --------------------------- ----------- 144.2/203.1 MB 27.7 MB/s eta 0:00:03\n",
      "   ----------------------------- --------- 151.8/203.1 MB 28.1 MB/s eta 0:00:02\n",
      "   ------------------------------ -------- 159.9/203.1 MB 28.5 MB/s eta 0:00:02\n",
      "   -------------------------------- ------ 167.8/203.1 MB 28.8 MB/s eta 0:00:02\n",
      "   --------------------------------- ----- 175.9/203.1 MB 29.1 MB/s eta 0:00:01\n",
      "   ----------------------------------- --- 182.7/203.1 MB 29.2 MB/s eta 0:00:01\n",
      "   ------------------------------------ -- 190.6/203.1 MB 29.6 MB/s eta 0:00:01\n",
      "   --------------------------------------  198.2/203.1 MB 29.7 MB/s eta 0:00:01\n",
      "   --------------------------------------  202.9/203.1 MB 29.8 MB/s eta 0:00:01\n",
      "   --------------------------------------  202.9/203.1 MB 29.8 MB/s eta 0:00:01\n",
      "   --------------------------------------  202.9/203.1 MB 29.8 MB/s eta 0:00:01\n",
      "   --------------------------------------- 203.1/203.1 MB 27.2 MB/s eta 0:00:00\n",
      "Downloading sympy-1.13.1-py3-none-any.whl (6.2 MB)\n",
      "   ---------------------------------------- 0.0/6.2 MB ? eta -:--:--\n",
      "   ---------------------------------------- 6.2/6.2 MB 34.5 MB/s eta 0:00:00\n",
      "Downloading filelock-3.17.0-py3-none-any.whl (16 kB)\n",
      "Downloading fsspec-2024.12.0-py3-none-any.whl (183 kB)\n",
      "Using cached jinja2-3.1.5-py3-none-any.whl (134 kB)\n",
      "Downloading networkx-3.4.2-py3-none-any.whl (1.7 MB)\n",
      "   ---------------------------------------- 0.0/1.7 MB ? eta -:--:--\n",
      "   ---------------------------------------- 1.7/1.7 MB 23.2 MB/s eta 0:00:00\n",
      "Downloading mpmath-1.3.0-py3-none-any.whl (536 kB)\n",
      "   ---------------------------------------- 0.0/536.2 kB ? eta -:--:--\n",
      "   ---------------------------------------- 536.2/536.2 kB 8.8 MB/s eta 0:00:00\n",
      "Installing collected packages: mpmath, sympy, networkx, jinja2, fsspec, filelock, torch\n",
      "Successfully installed filelock-3.17.0 fsspec-2024.12.0 jinja2-3.1.5 mpmath-1.3.0 networkx-3.4.2 sympy-1.13.1 torch-2.5.1\n",
      "Note: you may need to restart the kernel to use updated packages.\n"
     ]
    }
   ],
   "source": [
    "pip install torch"
   ]
  }
 ],
 "metadata": {
  "kernelspec": {
   "display_name": "Python 3",
   "language": "python",
   "name": "python3"
  },
  "language_info": {
   "codemirror_mode": {
    "name": "ipython",
    "version": 3
   },
   "file_extension": ".py",
   "mimetype": "text/x-python",
   "name": "python",
   "nbconvert_exporter": "python",
   "pygments_lexer": "ipython3",
   "version": "3.11.4"
  }
 },
 "nbformat": 4,
 "nbformat_minor": 2
}
